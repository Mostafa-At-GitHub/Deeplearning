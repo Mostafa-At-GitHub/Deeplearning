{
 "cells": [
  {
   "cell_type": "code",
   "execution_count": null,
   "metadata": {
    "collapsed": true
   },
   "outputs": [],
   "source": [
    "# Goals: A first look at R objects - vectors, lists, matrices, data frames.\n",
    "\n",
    "# To make vectors \"x\" \"y\" \"year\" and \"names\"\n",
    "x <- c(2,3,7,9)\n",
    "y <- c(9,7,3,2)\n",
    "year <- 1990:1993\n",
    "names <- c(\"payal\", \"shraddha\", \"kritika\", \"itida\")\n",
    "# Accessing the 1st and last elements of y --\n",
    "y[1]\n",
    "y[length(y)]\n",
    "\n",
    "# To make a list \"person\" --\n",
    "person <- list(name=\"payal\", x=2, y=9, year=1990)\n",
    "person\n",
    "# Accessing things inside a list --\n",
    "person$name\n",
    "person$x\n",
    "\n",
    "# To make a matrix, pasting together the columns \"year\" \"x\" and \"y\"\n",
    "# The verb cbind() stands for \"column bind\"\n",
    "cbind(year, x, y)\n",
    "\n",
    "# To make a \"data frame\", which is a list of vectors of the same length --\n",
    "D <- data.frame(names, year, x, y)\n",
    "nrow(D)\n",
    "# Accessing one of these vectors\n",
    "D$names\n",
    "# Accessing the last element of this vector\n",
    "D$names[nrow(D)]\n",
    "# Or equally,\n",
    "D$names[length(D$names)]"
   ]
  },
  {
   "cell_type": "code",
   "execution_count": null,
   "metadata": {
    "collapsed": true
   },
   "outputs": [],
   "source": []
  }
 ],
 "metadata": {
  "anaconda-cloud": {},
  "kernelspec": {
   "display_name": "R",
   "language": "R",
   "name": "ir"
  }
 },
 "nbformat": 4,
 "nbformat_minor": 0
}
